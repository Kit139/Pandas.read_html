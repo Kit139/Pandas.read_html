{
 "cells": [
  {
   "cell_type": "code",
   "execution_count": 2,
   "metadata": {
    "collapsed": true
   },
   "outputs": [
    {
     "data": {
      "text/plain": "   Ranking                                    University Name Country/Region  \\\n0        1  麻省理工学院Massachusetts Institute of Technology (MIT)     United Sta   \n1        2                           斯坦福大学Stanford University     United Sta   \n2        3                             哈佛大学Harvard University     United Sta   \n3        4  加州理工学院California Institute of Technology (Calt...     United Sta   \n4        5                           牛津大学University of Oxford     United Kin   \n\n   Academic Reputation  Employer Reputation  Faculty Student  \\\n0                100.0                100.0            100.0   \n1                100.0                100.0            100.0   \n2                100.0                100.0             98.6   \n3                 97.0                 82.8            100.0   \n4                100.0                100.0            100.0   \n\n  International Faculty International Students  Citations per Faculty  \\\n0                   100                   91.9                   99.1   \n1                  99.7                   63.6                   98.1   \n2                  85.2                   69.9                   99.1   \n3                   100                   88.2                   99.9   \n4                  99.4                   98.3                   81.3   \n\n   Overall Score  Free  \n0          100.0  免费评估  \n1           98.4  免费评估  \n2           97.9  免费评估  \n3           97.0  免费评估  \n4           96.7  免费评估  ",
      "text/html": "<div>\n<style scoped>\n    .dataframe tbody tr th:only-of-type {\n        vertical-align: middle;\n    }\n\n    .dataframe tbody tr th {\n        vertical-align: top;\n    }\n\n    .dataframe thead th {\n        text-align: right;\n    }\n</style>\n<table border=\"1\" class=\"dataframe\">\n  <thead>\n    <tr style=\"text-align: right;\">\n      <th></th>\n      <th>Ranking</th>\n      <th>University Name</th>\n      <th>Country/Region</th>\n      <th>Academic Reputation</th>\n      <th>Employer Reputation</th>\n      <th>Faculty Student</th>\n      <th>International Faculty</th>\n      <th>International Students</th>\n      <th>Citations per Faculty</th>\n      <th>Overall Score</th>\n      <th>Free</th>\n    </tr>\n  </thead>\n  <tbody>\n    <tr>\n      <th>0</th>\n      <td>1</td>\n      <td>麻省理工学院Massachusetts Institute of Technology (MIT)</td>\n      <td>United Sta</td>\n      <td>100.0</td>\n      <td>100.0</td>\n      <td>100.0</td>\n      <td>100</td>\n      <td>91.9</td>\n      <td>99.1</td>\n      <td>100.0</td>\n      <td>免费评估</td>\n    </tr>\n    <tr>\n      <th>1</th>\n      <td>2</td>\n      <td>斯坦福大学Stanford University</td>\n      <td>United Sta</td>\n      <td>100.0</td>\n      <td>100.0</td>\n      <td>100.0</td>\n      <td>99.7</td>\n      <td>63.6</td>\n      <td>98.1</td>\n      <td>98.4</td>\n      <td>免费评估</td>\n    </tr>\n    <tr>\n      <th>2</th>\n      <td>3</td>\n      <td>哈佛大学Harvard University</td>\n      <td>United Sta</td>\n      <td>100.0</td>\n      <td>100.0</td>\n      <td>98.6</td>\n      <td>85.2</td>\n      <td>69.9</td>\n      <td>99.1</td>\n      <td>97.9</td>\n      <td>免费评估</td>\n    </tr>\n    <tr>\n      <th>3</th>\n      <td>4</td>\n      <td>加州理工学院California Institute of Technology (Calt...</td>\n      <td>United Sta</td>\n      <td>97.0</td>\n      <td>82.8</td>\n      <td>100.0</td>\n      <td>100</td>\n      <td>88.2</td>\n      <td>99.9</td>\n      <td>97.0</td>\n      <td>免费评估</td>\n    </tr>\n    <tr>\n      <th>4</th>\n      <td>5</td>\n      <td>牛津大学University of Oxford</td>\n      <td>United Kin</td>\n      <td>100.0</td>\n      <td>100.0</td>\n      <td>100.0</td>\n      <td>99.4</td>\n      <td>98.3</td>\n      <td>81.3</td>\n      <td>96.7</td>\n      <td>免费评估</td>\n    </tr>\n  </tbody>\n</table>\n</div>"
     },
     "execution_count": 2,
     "metadata": {},
     "output_type": "execute_result"
    }
   ],
   "source": [
    "import pandas as pd\n",
    "import csv\n",
    "url1 = 'http://www.compassedu.hk/qs'\n",
    "df1 = pd.read_html(url1)[0]  #0表示网页中的第一个Table\n",
    "# df1.to_csv('世界大学综合排名.csv',index=0)\n",
    "df1.head(5)"
   ]
  },
  {
   "cell_type": "code",
   "execution_count": 3,
   "outputs": [
    {
     "name": "stdout",
     "output_type": "stream",
     "text": [
      "第1页抓取完成\n",
      "第2页抓取完成\n",
      "第3页抓取完成\n",
      "第4页抓取完成\n",
      "第5页抓取完成\n",
      "第6页抓取完成\n"
     ]
    },
    {
     "data": {
      "text/plain": "        代码    简称        截至日期  家数   本期持股数(万股)  持股占已流通A股比例(%)  同上期增减(万股)  \\\n0   600006  东风汽车  2020-09-30   2    763.5291           0.38  -642.4900   \n1   600009  上海机场  2020-09-30   2   3115.3046           1.62   461.7216   \n2   600012  皖通高速  2020-09-30   2    781.4391           0.47   -59.3700   \n3   600026  中远海能  2020-09-30   2   6225.5360           1.31   304.5000   \n4   600028  中国石化  2020-09-30   1   9659.7458           0.08   585.5300   \n..     ...   ...         ...  ..         ...            ...        ...   \n35     547  航天发展  2020-09-30   5   8882.9282           5.53  3324.6911   \n36     561  烽火电子  2020-09-30   5   1400.0234           2.32   468.3234   \n37     563  陕国投A  2020-09-30   2   1798.9586           0.45  -205.0200   \n38     568  泸州老窖  2020-09-30   5  10124.0374           6.91  1140.4847   \n39     570  苏常柴A  2020-09-30   3   1276.3766           2.27   -95.5973   \n\n    持股比例(%)  上期家数     明细  \n0      0.70     3  +展开明细  \n1      1.38     2  +展开明细  \n2      0.51     2  +展开明细  \n3      1.24     2  +展开明细  \n4      0.07     1  +展开明细  \n..      ...   ...    ...  \n35     3.46     3  +展开明细  \n36     1.54     3  +展开明细  \n37     0.51     2  +展开明细  \n38     6.13     5  +展开明细  \n39     2.44     3  +展开明细  \n\n[240 rows x 10 columns]",
      "text/html": "<div>\n<style scoped>\n    .dataframe tbody tr th:only-of-type {\n        vertical-align: middle;\n    }\n\n    .dataframe tbody tr th {\n        vertical-align: top;\n    }\n\n    .dataframe thead th {\n        text-align: right;\n    }\n</style>\n<table border=\"1\" class=\"dataframe\">\n  <thead>\n    <tr style=\"text-align: right;\">\n      <th></th>\n      <th>代码</th>\n      <th>简称</th>\n      <th>截至日期</th>\n      <th>家数</th>\n      <th>本期持股数(万股)</th>\n      <th>持股占已流通A股比例(%)</th>\n      <th>同上期增减(万股)</th>\n      <th>持股比例(%)</th>\n      <th>上期家数</th>\n      <th>明细</th>\n    </tr>\n  </thead>\n  <tbody>\n    <tr>\n      <th>0</th>\n      <td>600006</td>\n      <td>东风汽车</td>\n      <td>2020-09-30</td>\n      <td>2</td>\n      <td>763.5291</td>\n      <td>0.38</td>\n      <td>-642.4900</td>\n      <td>0.70</td>\n      <td>3</td>\n      <td>+展开明细</td>\n    </tr>\n    <tr>\n      <th>1</th>\n      <td>600009</td>\n      <td>上海机场</td>\n      <td>2020-09-30</td>\n      <td>2</td>\n      <td>3115.3046</td>\n      <td>1.62</td>\n      <td>461.7216</td>\n      <td>1.38</td>\n      <td>2</td>\n      <td>+展开明细</td>\n    </tr>\n    <tr>\n      <th>2</th>\n      <td>600012</td>\n      <td>皖通高速</td>\n      <td>2020-09-30</td>\n      <td>2</td>\n      <td>781.4391</td>\n      <td>0.47</td>\n      <td>-59.3700</td>\n      <td>0.51</td>\n      <td>2</td>\n      <td>+展开明细</td>\n    </tr>\n    <tr>\n      <th>3</th>\n      <td>600026</td>\n      <td>中远海能</td>\n      <td>2020-09-30</td>\n      <td>2</td>\n      <td>6225.5360</td>\n      <td>1.31</td>\n      <td>304.5000</td>\n      <td>1.24</td>\n      <td>2</td>\n      <td>+展开明细</td>\n    </tr>\n    <tr>\n      <th>4</th>\n      <td>600028</td>\n      <td>中国石化</td>\n      <td>2020-09-30</td>\n      <td>1</td>\n      <td>9659.7458</td>\n      <td>0.08</td>\n      <td>585.5300</td>\n      <td>0.07</td>\n      <td>1</td>\n      <td>+展开明细</td>\n    </tr>\n    <tr>\n      <th>...</th>\n      <td>...</td>\n      <td>...</td>\n      <td>...</td>\n      <td>...</td>\n      <td>...</td>\n      <td>...</td>\n      <td>...</td>\n      <td>...</td>\n      <td>...</td>\n      <td>...</td>\n    </tr>\n    <tr>\n      <th>35</th>\n      <td>547</td>\n      <td>航天发展</td>\n      <td>2020-09-30</td>\n      <td>5</td>\n      <td>8882.9282</td>\n      <td>5.53</td>\n      <td>3324.6911</td>\n      <td>3.46</td>\n      <td>3</td>\n      <td>+展开明细</td>\n    </tr>\n    <tr>\n      <th>36</th>\n      <td>561</td>\n      <td>烽火电子</td>\n      <td>2020-09-30</td>\n      <td>5</td>\n      <td>1400.0234</td>\n      <td>2.32</td>\n      <td>468.3234</td>\n      <td>1.54</td>\n      <td>3</td>\n      <td>+展开明细</td>\n    </tr>\n    <tr>\n      <th>37</th>\n      <td>563</td>\n      <td>陕国投A</td>\n      <td>2020-09-30</td>\n      <td>2</td>\n      <td>1798.9586</td>\n      <td>0.45</td>\n      <td>-205.0200</td>\n      <td>0.51</td>\n      <td>2</td>\n      <td>+展开明细</td>\n    </tr>\n    <tr>\n      <th>38</th>\n      <td>568</td>\n      <td>泸州老窖</td>\n      <td>2020-09-30</td>\n      <td>5</td>\n      <td>10124.0374</td>\n      <td>6.91</td>\n      <td>1140.4847</td>\n      <td>6.13</td>\n      <td>5</td>\n      <td>+展开明细</td>\n    </tr>\n    <tr>\n      <th>39</th>\n      <td>570</td>\n      <td>苏常柴A</td>\n      <td>2020-09-30</td>\n      <td>3</td>\n      <td>1276.3766</td>\n      <td>2.27</td>\n      <td>-95.5973</td>\n      <td>2.44</td>\n      <td>3</td>\n      <td>+展开明细</td>\n    </tr>\n  </tbody>\n</table>\n<p>240 rows × 10 columns</p>\n</div>"
     },
     "execution_count": 3,
     "metadata": {},
     "output_type": "execute_result"
    }
   ],
   "source": [
    "import pandas as pd\n",
    "import csv\n",
    "df2 = pd.DataFrame()\n",
    "for i in range(6):\n",
    "    url2 = 'http://vip.stock.finance.sina.com.cn/q/go.php/vComStockHold/kind/jjzc/index.phtml?p={page}'.format(page=i+1)\n",
    "    df2 = pd.concat([df2,pd.read_html(url2)[0]])\n",
    "    print('第{page}页抓取完成'.format(page = i + 1))\n",
    "df2\n",
    "# df2.to_csv('./新浪财经数据.csv',encoding='utf-8',index=0)"
   ],
   "metadata": {
    "collapsed": false,
    "pycharm": {
     "name": "#%%\n"
    }
   }
  },
  {
   "cell_type": "code",
   "execution_count": 15,
   "outputs": [
    {
     "name": "stdout",
     "output_type": "stream",
     "text": [
      "http://eid.csrc.gov.cn/ipo/1010/index_1.html\n",
      "第1页抓取完成\n",
      "http://eid.csrc.gov.cn/ipo/1010/index_2.html\n",
      "第2页抓取完成\n",
      "共抓取 30 家公司,用时 0.02 分钟\n",
      "              公司名称   披露类型   上市板块          保荐机构        披露时间                  公告\n",
      "0       金冠电气股份有限公司    上会稿  沪市科创板    招商证券股份有限公司  2021-01-15               招股说明书\n",
      "1       金冠电气股份有限公司    上会稿  沪市科创板    招商证券股份有限公司  2021-01-15               发行保荐书\n",
      "2       金冠电气股份有限公司    上会稿  沪市科创板    招商证券股份有限公司  2021-01-15               上市保荐书\n",
      "3       金冠电气股份有限公司    上会稿  沪市科创板    招商证券股份有限公司  2021-01-15                审计报告\n",
      "4       金冠电气股份有限公司    上会稿  沪市科创板    招商证券股份有限公司  2021-01-15               法律意见书\n",
      "5       金冠电气股份有限公司  问询与回复  沪市科创板    招商证券股份有限公司  2021-01-15  8-1 发行人及保荐机构关于审...\n",
      "6       金冠电气股份有限公司  问询与回复  沪市科创板    招商证券股份有限公司  2021-01-15  8-3 金冠电气补充法律意见书...\n",
      "7   苏州和林微纳科技股份有限公司    注册稿  沪市科创板      华兴证券有限公司  2021-01-15               招股说明书\n",
      "8   苏州和林微纳科技股份有限公司    注册稿  沪市科创板      华兴证券有限公司  2021-01-15               发行保荐书\n",
      "9   苏州和林微纳科技股份有限公司    注册稿  沪市科创板      华兴证券有限公司  2021-01-15               上市保荐书\n",
      "10  苏州和林微纳科技股份有限公司    注册稿  沪市科创板      华兴证券有限公司  2021-01-15                审计报告\n",
      "11  苏州和林微纳科技股份有限公司    注册稿  沪市科创板      华兴证券有限公司  2021-01-15               法律意见书\n",
      "12  杭州西力智能科技股份有限公司    注册稿  沪市科创板    国金证券股份有限公司  2021-01-15               招股说明书\n",
      "13  杭州西力智能科技股份有限公司    注册稿  沪市科创板    国金证券股份有限公司  2021-01-15               发行保荐书\n",
      "14  杭州西力智能科技股份有限公司    注册稿  沪市科创板    国金证券股份有限公司  2021-01-15               上市保荐书\n",
      "0   杭州西力智能科技股份有限公司    注册稿  沪市科创板    国金证券股份有限公司  2021-01-15                审计报告\n",
      "1   杭州西力智能科技股份有限公司    注册稿  沪市科创板    国金证券股份有限公司  2021-01-15               法律意见书\n",
      "2     杭州柯林电气股份有限公司    注册稿  沪市科创板    浙商证券股份有限公司  2021-01-15               招股说明书\n",
      "3     杭州柯林电气股份有限公司    注册稿  沪市科创板    浙商证券股份有限公司  2021-01-15               发行保荐书\n",
      "4     杭州柯林电气股份有限公司    注册稿  沪市科创板    浙商证券股份有限公司  2021-01-15               上市保荐书\n",
      "5     杭州柯林电气股份有限公司    注册稿  沪市科创板    浙商证券股份有限公司  2021-01-15                审计报告\n",
      "6     杭州柯林电气股份有限公司    注册稿  沪市科创板    浙商证券股份有限公司  2021-01-15               法律意见书\n",
      "7    新疆大全新能源股份有限公司  问询与回复  沪市科创板  中国国际金融股份有限公司  2021-01-15  8-1-2 发行人及保荐机构回...\n",
      "8    新疆大全新能源股份有限公司  问询与回复  沪市科创板  中国国际金融股份有限公司  2021-01-15    8-2-2 会计师回复意见（二）\n",
      "9    新疆大全新能源股份有限公司  问询与回复  沪市科创板  中国国际金融股份有限公司  2021-01-15  8-3-2 律师补充法律意见书...\n",
      "10  北京中科晶上科技股份有限公司  问询与回复  沪市科创板  中信建投证券股份有限公司  2021-01-15  8-1 发行人及保荐机构关于审...\n",
      "11  北京中科晶上科技股份有限公司  问询与回复  沪市科创板  中信建投证券股份有限公司  2021-01-15      8-3 补充法律意见书（一）\n",
      "12  北京中科晶上科技股份有限公司  问询与回复  沪市科创板  中信建投证券股份有限公司  2021-01-15         8-2 会计师回复意见\n",
      "13  上海电气风电集团股份有限公司    注册稿  沪市科创板    中信证券股份有限公司  2021-01-15               招股说明书\n",
      "14  上海电气风电集团股份有限公司    注册稿  沪市科创板    中信证券股份有限公司  2021-01-15               发行保荐书\n"
     ]
    }
   ],
   "source": [
    "\n",
    "import pandas as pd\n",
    "from pandas import DataFrame\n",
    "import csv\n",
    "import time\n",
    "start = time.time() #程序计时\n",
    "df3 = DataFrame(data=None,columns=['公司名称','披露类型','上市板块','保荐机构','披露时间', '公告']) #添加列名\n",
    "for i in range(1,3):\n",
    "    url3 ='http://eid.csrc.gov.cn/ipo/1010/index_%s.html'%str(i)\n",
    "    print(url3)\n",
    "    df3_1 = pd.read_html(url3,encoding='utf-8')[0]  #必须加utf-8，否则乱码\n",
    "    df3_1.columns=['公司名称','披露类型','上市板块','保荐机构','披露时间', '公告'] #新的df添加列名\n",
    "    df3 = pd.concat([df3,df3_1])  #数据合并\n",
    "    print('第{page}页抓取完成'.format(page=i))\n",
    "# df3.to_csv('./上市公司IPO信息.csv', encoding='utf-8',index=0) #保存数据到csv文件\n",
    "end = time.time()\n",
    "print ('共抓取',len(df3),'家公司,' + '用时',round((end-start)/60,2),'分钟')\n",
    "print(df3)"
   ],
   "metadata": {
    "collapsed": false,
    "pycharm": {
     "name": "#%%\n"
    }
   }
  }
 ],
 "metadata": {
  "kernelspec": {
   "name": "pycharm-9cf40787",
   "language": "python",
   "display_name": "PyCharm (gogoGO)"
  },
  "language_info": {
   "codemirror_mode": {
    "name": "ipython",
    "version": 2
   },
   "file_extension": ".py",
   "mimetype": "text/x-python",
   "name": "python",
   "nbconvert_exporter": "python",
   "pygments_lexer": "ipython2",
   "version": "2.7.6"
  }
 },
 "nbformat": 4,
 "nbformat_minor": 0
}